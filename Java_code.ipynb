{
  "nbformat": 4,
  "nbformat_minor": 0,
  "metadata": {
    "colab": {
      "provenance": [],
      "toc_visible": true,
      "authorship_tag": "ABX9TyNmcZfyUG9GiHjIPB41IgKT"
    },
    "kernelspec": {
      "name": "python3",
      "display_name": "Python 3"
    },
    "language_info": {
      "name": "python"
    }
  },
  "cells": [
    {
      "cell_type": "markdown",
      "source": [
        "# Task\n",
        "\n",
        "Implement a Java class for calculating the straight-line and declining balance depreciation of an asset. Print out the depreciation amount and remaining book value of the asset for each year of its useful life.\n",
        "\n",
        "For the calculation of the depreciation rate in straight-line depreciation, the following formula applies:\n",
        "\n",
        "```\n",
        "Depreciation rate (in %) =\n",
        "100%\n",
        "Useful life\n",
        "```\n",
        "\n",
        "For the calculation of the depreciation rate in declining balance depreciation, the following formulas apply:\n",
        "\n",
        "```\n",
        "Depreciation rate (in %) =\n",
        "100%\n",
        "Useful life * 2 (if acquisition date < 01/01/2006, but max 20%)\n",
        "\n",
        "or\n",
        "\n",
        "Depreciation rate (in %) =\n",
        "100%\n",
        "Useful life * 3 (if acquisition date ≥ 01/01/2006, but max 30%)\n",
        "```\n",
        "\n",
        "Refer to the following UML class diagram when implementing the Java class:\n",
        "\n",
        "```\n",
        "DepreciationCalculator\n",
        "\n",
        "- assetDepreciationRange : int\n",
        "- acquisitionDate : Calendar\n",
        "- acquisitionCosts : double\n",
        "+ DepreciationCalculator(assetDepreciationRange: int, acquisitionDate: Calendar,\n",
        "acquisitionCosts: double)\n",
        "+ calculatedLinearDepreciation(): void\n",
        "+ calculateDegressiveDepreciation(): void\n",
        "```\n",
        "\n",
        "Please note the following guidelines during implementation:\n",
        "\n",
        "- Round all results to two decimal places.\n",
        "- Use an IDE of your choice for implementation (e.g., NetBeans IDE or Eclipse IDE).\n",
        "\n",
        "The most important aspect is that you can explain your basic solution idea verbally.\n",
        "\n",
        "### Example\n",
        "\n",
        "You are given the following input parameters:\n",
        "- Useful life: 5 years\n",
        "- Acquisition date: 01/01/2015\n",
        "- Acquisition costs: €1,000.00\n",
        "\n",
        "The output on the console for the calculation of straight-line depreciation should look like this:\n",
        "\n",
        "```\n",
        "2015: | Depreciation amount: 200.0 | Remaining book value: 800.0\n",
        "2016: | Depreciation amount: 200.0 | Remaining book value: 600.0\n",
        "2017: | Depreciation amount: 200.0 | Remaining book value: 400.0\n",
        "2018: | Depreciation amount: 200.0 | Remaining book value: 200.0\n",
        "2019: | Depreciation amount: 200.0 | Remaining book value: 0.0\n",
        "```"
      ],
      "metadata": {
        "id": "4F-zbcWOJTcb"
      }
    },
    {
      "cell_type": "markdown",
      "source": [
        "## Do it in Python"
      ],
      "metadata": {
        "id": "KY_QwMnfJf0q"
      }
    },
    {
      "cell_type": "code",
      "source": [
        "assetdeprange = 5 # integer\n",
        "acquis_date = (\"01.01.2015\") #calander\n",
        "acquiseion_cost = 1000 # double"
      ],
      "metadata": {
        "id": "QL5LP4cSiBKn"
      },
      "execution_count": null,
      "outputs": []
    },
    {
      "cell_type": "code",
      "source": [
        "year = int(acquis_date[-4:])\n",
        "month_date = acquis_date[:6]"
      ],
      "metadata": {
        "id": "-N1dVTB8k85G"
      },
      "execution_count": null,
      "outputs": []
    },
    {
      "cell_type": "code",
      "source": [
        "new_date = month_date + str(year+10)"
      ],
      "metadata": {
        "id": "IcYMMUWjmN8P"
      },
      "execution_count": null,
      "outputs": []
    },
    {
      "cell_type": "code",
      "source": [
        "new_date"
      ],
      "metadata": {
        "colab": {
          "base_uri": "https://localhost:8080/",
          "height": 36
        },
        "id": "RNJWY8YQoV-T",
        "outputId": "9e0bef3e-fb39-43f7-a6d3-d7844398046e"
      },
      "execution_count": null,
      "outputs": [
        {
          "output_type": "execute_result",
          "data": {
            "text/plain": [
              "'01.01.2025'"
            ],
            "application/vnd.google.colaboratory.intrinsic+json": {
              "type": "string"
            }
          },
          "metadata": {},
          "execution_count": 4
        }
      ]
    },
    {
      "cell_type": "code",
      "source": [
        "restvealues = acquiseion_cost\n",
        "\n",
        "for i in range(assetdeprange):\n",
        "  restvealues -= acquiseion_cost/assetdeprange\n",
        "  print(\n",
        "      f\"\"\"{year+i} Abschreibungsbeitrag {acquiseion_cost/assetdeprange} Restwert {restvealues} \"\"\")"
      ],
      "metadata": {
        "colab": {
          "base_uri": "https://localhost:8080/"
        },
        "id": "q04XzEUopXmW",
        "outputId": "310726b9-ef5c-4bc1-f29a-03258a81f9f0"
      },
      "execution_count": null,
      "outputs": [
        {
          "output_type": "stream",
          "name": "stdout",
          "text": [
            "2015 Abschreibungsbeitrag 200.0 Restwert 800.0 \n",
            "2016 Abschreibungsbeitrag 200.0 Restwert 600.0 \n",
            "2017 Abschreibungsbeitrag 200.0 Restwert 400.0 \n",
            "2018 Abschreibungsbeitrag 200.0 Restwert 200.0 \n",
            "2019 Abschreibungsbeitrag 200.0 Restwert 0.0 \n"
          ]
        }
      ]
    },
    {
      "cell_type": "code",
      "source": [
        "asset_dep_range = 5\n",
        "acquis_date = '01.01.2015'\n",
        "acquis_cost = 1000"
      ],
      "metadata": {
        "id": "tO7w-1-iuiCp"
      },
      "execution_count": null,
      "outputs": []
    },
    {
      "cell_type": "code",
      "source": [
        "def deprange_lin(asset_dep_range, acquis_date, acquis_cost):\n",
        "  year = int(acquis_date[-4:])\n",
        "  rest_val = acquis_cost\n",
        "  for i in range(asset_dep_range):\n",
        "    rest_val -= acquis_cost/asset_dep_range\n",
        "    print(f\"\"\"{year+i} Abschreibungsbeitrag {round(acquis_cost/asset_dep_range,2)} Restwert {round(rest_val,2)} \"\"\")"
      ],
      "metadata": {
        "id": "fNnwk_5-p1yb"
      },
      "execution_count": null,
      "outputs": []
    },
    {
      "cell_type": "code",
      "source": [
        "def deprange_reg(asset_dep_range, acquis_date, acquis_cost):\n",
        "  year = int(acquis_date[-4:])\n",
        "  rest_val = acquis_cost\n",
        "  for i in range(asset_dep_range):\n",
        "    rest_val -= acquis_cost/asset_dep_range\n",
        "    print(f\"\"\"{year+i} Abschreibungsbeitrag {round(acquis_cost/asset_dep_range,2)} Restwert {round(rest_val,2)} \"\"\")"
      ],
      "metadata": {
        "id": "M_ABYcoUMKwO"
      },
      "execution_count": null,
      "outputs": []
    },
    {
      "cell_type": "code",
      "source": [
        "deprange(5,'01.01.2015', 1000)"
      ],
      "metadata": {
        "id": "3T3SNfYUuMQD",
        "colab": {
          "base_uri": "https://localhost:8080/"
        },
        "outputId": "70d4c91c-52e7-4cbd-f657-246335926132"
      },
      "execution_count": null,
      "outputs": [
        {
          "output_type": "stream",
          "name": "stdout",
          "text": [
            "2015 Abschreibungsbeitrag 200.0 Restwert 800.0 \n",
            "2016 Abschreibungsbeitrag 200.0 Restwert 600.0 \n",
            "2017 Abschreibungsbeitrag 200.0 Restwert 400.0 \n",
            "2018 Abschreibungsbeitrag 200.0 Restwert 200.0 \n",
            "2019 Abschreibungsbeitrag 200.0 Restwert 0.0 \n"
          ]
        }
      ]
    },
    {
      "cell_type": "code",
      "source": [
        "def test_deprange():\n",
        "    # Test Case 1\n",
        "    asset_dep_range = 5\n",
        "    acquis_date = '01.01.2015'\n",
        "    acquis_cost = 1000\n",
        "\n",
        "    print(\"Test Case 1:\")\n",
        "    deprange(asset_dep_range, acquis_date, acquis_cost)\n",
        "\n",
        "    # Test Case 2\n",
        "    asset_dep_range = 3\n",
        "    acquis_date = '01.01.2020'\n",
        "    acquis_cost = 2000\n",
        "\n",
        "    print(\"Test Case 2:\")\n",
        "    deprange(asset_dep_range, acquis_date, acquis_cost)\n",
        "\n",
        "    # Test Case 3\n",
        "    asset_dep_range = 2\n",
        "    acquis_date = '01.01.2010'\n",
        "    acquis_cost = 500\n",
        "\n",
        "    print(\"Test Case 3:\")\n",
        "    deprange(asset_dep_range, acquis_date, acquis_cost)\n",
        "\n",
        "test_deprange()"
      ],
      "metadata": {
        "id": "MnE5cg_xu98_",
        "colab": {
          "base_uri": "https://localhost:8080/"
        },
        "outputId": "844a9224-36e3-408e-9e93-847661240910"
      },
      "execution_count": null,
      "outputs": [
        {
          "output_type": "stream",
          "name": "stdout",
          "text": [
            "Test Case 1:\n",
            "2015 Abschreibungsbeitrag 200.0 Restwert 800.0 \n",
            "2016 Abschreibungsbeitrag 200.0 Restwert 600.0 \n",
            "2017 Abschreibungsbeitrag 200.0 Restwert 400.0 \n",
            "2018 Abschreibungsbeitrag 200.0 Restwert 200.0 \n",
            "2019 Abschreibungsbeitrag 200.0 Restwert 0.0 \n",
            "Test Case 2:\n",
            "2020 Abschreibungsbeitrag 666.67 Restwert 1333.33 \n",
            "2021 Abschreibungsbeitrag 666.67 Restwert 666.67 \n",
            "2022 Abschreibungsbeitrag 666.67 Restwert 0.0 \n",
            "Test Case 3:\n",
            "2010 Abschreibungsbeitrag 250.0 Restwert 250.0 \n",
            "2011 Abschreibungsbeitrag 250.0 Restwert 0.0 \n"
          ]
        }
      ]
    },
    {
      "cell_type": "code",
      "source": [
        "import datetime\n",
        "\n",
        "class DepreciationCalculator:\n",
        "    def __init__(self, asset_depreciation_range, acquisition_date, acquisition_costs):\n",
        "        self.asset_depreciation_range = asset_depreciation_range\n",
        "        self.acquisition_date = acquisition_date\n",
        "        self.acquisition_costs = acquisition_costs\n",
        "\n",
        "    def calculate_linear_depreciation(self):\n",
        "        year = self.acquisition_date.year\n",
        "        remaining_value = self.acquisition_costs\n",
        "\n",
        "        for i in range(self.asset_depreciation_range):\n",
        "            asset_depreciation_rate = (100 / self.asset_depreciation_range)/100\n",
        "            remaining_value -= asset_depreciation_rate*acquisition_costs\n",
        "            print(f\"{year + i} Abschreibungsbeitrag {asset_depreciation_rate*acquisition_costs:.2f} Restwert {remaining_value:.2f}\")\n",
        "\n",
        "    def calculate_degressive_depreciation(self):\n",
        "        useful_life = (100 / self.asset_depreciation_range)/100\n",
        "        remaining_value = self.acquisition_costs\n",
        "        year = self.acquisition_date.year\n",
        "\n",
        "        threshold_date = datetime.datetime(2006, 1, 1)\n",
        "\n",
        "        if self.acquisition_date < threshold_date:\n",
        "            asset_depreciation_rate = useful_life * 2\n",
        "            if asset_depreciation_rate > 0.2:\n",
        "                asset_depreciation_rate = 0.2\n",
        "        else:\n",
        "            asset_depreciation_rate = useful_life * 3\n",
        "            if asset_depreciation_rate > 0.3:\n",
        "                asset_depreciation_rate = 0.3\n",
        "\n",
        "\n",
        "        for i in range(self.asset_depreciation_range):\n",
        "            remaining_value -= asset_depreciation_rate*acquisition_costs\n",
        "            print(f\"{year + i} Abschreibungsbeitrag {asset_depreciation_rate*remaining_value:.2f} Restwert {remaining_value:.2f}\")\n",
        "            if remaining_value < 0:\n",
        "                remaining_value = 0\n",
        "\n",
        "asset_depreciation_range = 5\n",
        "acquisition_date = datetime.datetime(2005, 7, 26)ß´ü+ä#ß+0opnml .öm\n",
        "acquisition_costs = 1000\n",
        "\n",
        "calculator = DepreciationCalculator(asset_depreciation_range, acquisition_date, acquisition_costs)\n",
        "#calculator.calculate_linear_depreciation()\n",
        "calculator.calculate_degressive_depreciation()\n"
      ],
      "metadata": {
        "id": "NQF5HdNspMDS",
        "colab": {
          "base_uri": "https://localhost:8080/"
        },
        "outputId": "0306b354-32c8-4692-ee44-016cc9126fa3"
      },
      "execution_count": null,
      "outputs": [
        {
          "output_type": "stream",
          "name": "stdout",
          "text": [
            "2005 Abschreibungsbeitrag 160.00 Restwert 800.00\n",
            "2006 Abschreibungsbeitrag 120.00 Restwert 600.00\n",
            "2007 Abschreibungsbeitrag 80.00 Restwert 400.00\n",
            "2008 Abschreibungsbeitrag 40.00 Restwert 200.00\n",
            "2009 Abschreibungsbeitrag 0.00 Restwert 0.00\n"
          ]
        }
      ]
    },
    {
      "cell_type": "markdown",
      "source": [
        "## Now in Java"
      ],
      "metadata": {
        "id": "BEgHWo8_Jl2V"
      }
    },
    {
      "cell_type": "code",
      "source": [
        "import java.util.Calendar;\n",
        "\n",
        "public class DepreciationCalculator_reg {\n",
        "    private int assetDepreciationRange;\n",
        "    private Calendar acquisitionDate;\n",
        "    private double acquisitionCosts;\n",
        "\n",
        "    public DepreciationCalculator_reg(int assetDepreciationRange, Calendar acquisitionDate, double acquisitionCosts) {\n",
        "        this.assetDepreciationRange = assetDepreciationRange;\n",
        "        this.acquisitionDate = acquisitionDate;\n",
        "        this.acquisitionCosts = acquisitionCosts;\n",
        "    }\n",
        "\n",
        "    public void calculatedLinearDepreciation() {\n",
        "        int year = acquisitionDate.get(Calendar.YEAR);\n",
        "        double remainingValue = acquisitionCosts;\n",
        "\n",
        "        for (int i = 0; i < assetDepreciationRange; i++) {\n",
        "            remainingValue -= acquisitionCosts / assetDepreciationRange;\n",
        "            System.out.printf(\"%d Abschreibungsbeitrag %.2f Restwert %.2f%n\",\n",
        "                    year + i, acquisitionCosts / assetDepreciationRange, remainingValue);\n",
        "        }\n",
        "    }\n",
        "\n",
        "    public void calculateDegressiveDepreciation() {\n",
        "        double remainingValue = acquisitionCosts;\n",
        "        int year = acquisitionDate.get(Calendar.YEAR);\n",
        "        double depreciationRate;\n",
        "\n",
        "        Calendar thresholdDate = Calendar.getInstance();\n",
        "        thresholdDate.set(2006, Calendar.JANUARY, 1);\n",
        "\n",
        "        if (acquisitionDate.before(thresholdDate)) {\n",
        "            depreciationRate = assetDepreciationRange * 2;\n",
        "            if (depreciationRate > 20) {\n",
        "                depreciationRate = 20;\n",
        "            }\n",
        "        } else {\n",
        "            depreciationRate = assetDepreciationRange * 3;\n",
        "            if (depreciationRate > 30) {\n",
        "                depreciationRate = 30;\n",
        "            }\n",
        "        }\n",
        "\n",
        "        double degressiveDepreciation = acquisitionCosts * depreciationRate / 100;\n",
        "\n",
        "        for (int i = 0; i < assetDepreciationRange; i++) {\n",
        "            remainingValue -= degressiveDepreciation;\n",
        "            System.out.printf(\"%d Abschreibungsbeitrag %.2f Restwert %.2f%n\",\n",
        "                    year + i, degressiveDepreciation, remainingValue);\n",
        "            if (remainingValue < 0) {\n",
        "                remainingValue = 0;\n",
        "            }\n",
        "        }\n",
        "    }\n",
        "\n",
        "    public static void main(String[] args) {\n",
        "        int assetDepreciationRange = 10;\n",
        "        Calendar acquisitionDate = Calendar.getInstance();\n",
        "        acquisitionDate.set(2005, Calendar.JULY, 26);\n",
        "        double acquisitionCosts = 1000;\n",
        "\n",
        "        DepreciationCalculator_reg calculator = new DepreciationCalculator_reg(assetDepreciationRange, acquisitionDate, acquisitionCosts);\n",
        "     //   calculator.calculatedLinearDepreciation();\n",
        "        calculator.calculateDegressiveDepreciation();\n",
        "    }\n",
        "}\n"
      ],
      "metadata": {
        "id": "Wv6rTAXpKEh0"
      },
      "execution_count": null,
      "outputs": []
    }
  ]
}