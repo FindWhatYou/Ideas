{
  "nbformat": 4,
  "nbformat_minor": 0,
  "metadata": {
    "colab": {
      "provenance": [],
      "authorship_tag": "ABX9TyMTC8D/wFH4BWCORsQoF/VB"
    },
    "kernelspec": {
      "name": "python3",
      "display_name": "Python 3"
    },
    "language_info": {
      "name": "python"
    }
  },
  "cells": [
    {
      "cell_type": "markdown",
      "source": [
        "# Simple Flash Card App."
      ],
      "metadata": {
        "id": "zr8yOlxTHvBi"
      }
    },
    {
      "cell_type": "code",
      "execution_count": null,
      "metadata": {
        "colab": {
          "base_uri": "https://localhost:8080/"
        },
        "id": "8TZEYb3Bc-st",
        "outputId": "c059049c-c4c3-4daf-e744-13bfb000e779"
      },
      "outputs": [
        {
          "output_type": "stream",
          "name": "stdout",
          "text": [
            "Question:  What is the square root of 64?\n",
            "Enter your answer: no\n",
            "Incorrect. The correct answer is: 8\n"
          ]
        }
      ],
      "source": [
        "import random\n",
        "\n",
        "class Flashcard:\n",
        "    def __init__(self, question, answer):\n",
        "        self.question = question\n",
        "        self.answer = answer\n",
        "\n",
        "class FlashcardApp:\n",
        "    def __init__(self):\n",
        "        self.flashcards = []\n",
        "        self.current_flashcard = None\n",
        "\n",
        "    def add_flashcard(self, flashcard):\n",
        "        self.flashcards.append(flashcard)\n",
        "\n",
        "    def remove_flashcard(self, flashcard):\n",
        "        self.flashcards.remove(flashcard)\n",
        "\n",
        "    def select_random_flashcard(self):\n",
        "        if len(self.flashcards) > 0:\n",
        "            self.current_flashcard = random.choice(self.flashcards)\n",
        "        else:\n",
        "            print(\"No flashcards available.\")\n",
        "\n",
        "    def display_current_flashcard(self):\n",
        "        if self.current_flashcard:\n",
        "            print(\"Question: \", self.current_flashcard.question)\n",
        "        else:\n",
        "            print(\"No flashcard selected.\")\n",
        "\n",
        "    def check_answer(self, user_answer):\n",
        "        if self.current_flashcard:\n",
        "            if user_answer.lower() == self.current_flashcard.answer.lower():\n",
        "                print(\"Correct!\")\n",
        "            else:\n",
        "                print(\"Incorrect. The correct answer is:\", self.current_flashcard.answer)\n",
        "        else:\n",
        "            print(\"No flashcard selected.\")\n",
        "\n",
        "def main():\n",
        "    app = FlashcardApp()\n",
        "\n",
        "    # Create flashcards\n",
        "    flashcard1 = Flashcard(\"What is the capital of France?\", \"Paris\")\n",
        "    flashcard2 = Flashcard(\"What is the square root of 64?\", \"8\")\n",
        "    flashcard3 = Flashcard(\"What is the largest planet in our solar system?\", \"Jupiter\")\n",
        "\n",
        "    # Add flashcards to the app\n",
        "    app.add_flashcard(flashcard1)\n",
        "    app.add_flashcard(flashcard2)\n",
        "    app.add_flashcard(flashcard3)\n",
        "\n",
        "    # Select a random flashcard\n",
        "    app.select_random_flashcard()\n",
        "\n",
        "    # Display the current flashcard\n",
        "    app.display_current_flashcard()\n",
        "\n",
        "    # Get user input and check the answer\n",
        "    user_answer = input(\"Enter your answer: \")\n",
        "    app.check_answer(user_answer)\n",
        "\n",
        "if __name__ == \"__main__\":\n",
        "    main()\n"
      ]
    },
    {
      "cell_type": "code",
      "source": [
        "def main():\n",
        "    app = FlashcardApp()\n",
        "\n",
        "    # Dictionary of flashcards\n",
        "    abbreviations = {\n",
        "        \"IAM\": \"Identity and Access Management\",\n",
        "        \"S3\": \"Simple Storage Service\",\n",
        "        \"SWF\": \"Simple Workflow Service\",\n",
        "        \"SNS\": \"Simple Notification Service\",\n",
        "        \"SQS\": \"Simple Queue Service\",\n",
        "        \"SES\": \"Simple Email Service\",\n",
        "        \"SSM\": \"Simple Systems Manager\",\n",
        "        \"RDS\": \"Relational Database Service\",\n",
        "        \"VPC\": \"Virtual Private Cloud\",\n",
        "        \"VPN\": \"Virtual Private Network\",\n",
        "        \"CFN\": \"CloudFormation\",\n",
        "        \"WAF\": \"Web Application Firewall\",\n",
        "        \"MQ\": \"Amazon ActiveMQ\",\n",
        "        \"ASG\": \"Auto Scaling Groups\",\n",
        "        \"TAM\": \"Technical Account Manager\",\n",
        "        \"ELB\": \"Elastic Load Balancer\",\n",
        "        \"ALB\": \"Application Load Balancer\",\n",
        "        \"NLB\": \"Network Load Balancer\",\n",
        "        \"EC2\": \"Elastic Cloud Compute\",\n",
        "        \"ECS\": \"Elastic Container Service\",\n",
        "        \"ECR\": \"Elastic Container Repository\",\n",
        "        \"EBS\": \"Elastic Block Storage\",\n",
        "        \"EFS\": \"Elastic File Storage\",\n",
        "        \"EMR\": \"Elastic MapReduce\",\n",
        "        \"EB\": \"Elastic Beanstalk\",\n",
        "        \"ES\": \"Elasticsearch\",\n",
        "        \"EKS\": \"Elastic Kubernetes Service\",\n",
        "        \"MSK\": \"Managed Kafka Service\",\n",
        "        \"IoT\": \"Internet of Things\",\n",
        "        \"RI\": \"Reserved Instances\"\n",
        "    }\n",
        "    # Convert dictionary into Flashcard objects and add them to the app\n",
        "    for abbreviation, definition in abbreviations.items():\n",
        "        question = f\"What does {abbreviation} stand for?\"\n",
        "        flashcard = Flashcard(question, definition)\n",
        "        app.add_flashcard(flashcard)\n",
        "\n",
        "    # Select a random flashcard\n",
        "    app.select_random_flashcard()\n",
        "\n",
        "    # Display the current flashcard\n",
        "    app.display_current_flashcard()\n",
        "\n",
        "    # Get user input and check the answer\n",
        "    user_answer = input(\"Enter your answer: \")\n",
        "    app.check_answer(user_answer)\n",
        "\n",
        "if __name__ == \"__main__\":\n",
        "    main()"
      ],
      "metadata": {
        "colab": {
          "base_uri": "https://localhost:8080/"
        },
        "id": "EaWan5vEFV8g",
        "outputId": "aadc0934-92c3-4427-fc4d-aae9ccc8a02c"
      },
      "execution_count": null,
      "outputs": [
        {
          "output_type": "stream",
          "name": "stdout",
          "text": [
            "Question:  What does ECS stand for?\n",
            "Enter your answer: d\n",
            "Incorrect. The correct answer is: Elastic Container Service\n"
          ]
        }
      ]
    }
  ]
}